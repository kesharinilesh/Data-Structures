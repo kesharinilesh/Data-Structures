{
  "nbformat": 4,
  "nbformat_minor": 0,
  "metadata": {
    "colab": {
      "provenance": []
    },
    "kernelspec": {
      "name": "python3",
      "display_name": "Python 3"
    },
    "language_info": {
      "name": "python"
    }
  },
  "cells": [
    {
      "cell_type": "markdown",
      "source": [
        "#Frequently Comparison type Questions asked in the Interviews\n",
        "\n",
        "### Arrays vs. Linked Lists\n",
        "- What is the difference between arrays and linked lists?\n",
        "- When would you choose to use an array versus a linked list?\n",
        "- Which data structure is more efficient for searching and sorting operations?\n",
        "- What are the advantages and disadvantages of arrays and linked lists in terms of memory usage and performance?\n",
        "- Can you explain how to perform insertion and deletion operations on arrays and linked lists?\n",
        "\n",
        "### Linked Lists vs. Stacks\n",
        "- How are linked lists and stacks similar, and how are they different?\n",
        "- When would you choose to use a stack versus a linked list?\n",
        "- How does the LIFO principle of stacks make them useful for certain applications?\n",
        "- Can you describe the push and pop operations on a stack?\n",
        "- Can you explain how to implement a stack using a linked list?\n",
        "\n",
        "### Linked Lists vs. Queues\n",
        "- How are linked lists and queues similar, and how are they different?\n",
        "- When would you choose to use a queue versus a linked list?\n",
        "- How does the FIFO principle of queues make them useful for certain applications?\n",
        "- Can you describe the enqueue and dequeue operations on a queue?\n",
        "- Can you explain how to implement a queue using a linked list?"
      ],
      "metadata": {
        "id": "1pOCjcO480Qz"
      }
    }
  ]
}